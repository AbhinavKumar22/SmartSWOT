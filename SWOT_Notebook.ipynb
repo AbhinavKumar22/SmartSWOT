{
 "cells": [
  {
   "cell_type": "markdown",
   "id": "ae7cd15d-dc5a-4908-b21f-64b9f3c82092",
   "metadata": {},
   "source": [
    "OBJECTIVE: The objective is to develop a functional AI Agent, leveraging Streamlit and LangChain, capable of autonomously conducting a SWOT analysis from provided organizational data. This agent must deliver a comprehensive analysis, including a visual representation of key findings, demonstrating a practical application of AI in strategic business analysis."
   ]
  },
  {
   "cell_type": "markdown",
   "id": "9d0c1da6-a409-4ab4-9328-a05c5a72b4b6",
   "metadata": {},
   "source": [
    "## Import Library and dependencies"
   ]
  },
  {
   "cell_type": "code",
   "execution_count": 19,
   "id": "08d981c8-792d-4210-9884-6e908f46eb21",
   "metadata": {},
   "outputs": [],
   "source": [
    "# Importing Libraries\n",
    "import os\n",
    "import streamlit as st\n",
    "import langchain\n",
    "from langchain_google_genai import ChatGoogleGenerativeAI\n",
    "from langchain.prompts import PromptTemplate\n",
    "from langchain.chains import LLMChain\n",
    "import matplotlib.pyplot as plt\n",
    "import pypdf\n",
    "import tiktoken"
   ]
  },
  {
   "cell_type": "markdown",
   "id": "de3e5261-01d7-469e-8409-37a835aa0f12",
   "metadata": {},
   "source": [
    "## Print Library versions"
   ]
  },
  {
   "cell_type": "code",
   "execution_count": 21,
   "id": "0c226c61-6bd6-4cfb-84d4-fd694ff63f18",
   "metadata": {},
   "outputs": [
    {
     "name": "stdout",
     "output_type": "stream",
     "text": [
      "streamlit version: 1.42.2\n",
      "langchain version: 0.3.19\n",
      "matplotlib version: 3.8.0\n",
      "tiktoken version: 0.9.0\n",
      "pypdf version: 5.3.1\n",
      "google-generativeai version: 0.8.4\n"
     ]
    }
   ],
   "source": [
    "# Printing Library Versions\n",
    "print(f\"streamlit version: {st.__version__}\")\n",
    "print(f\"langchain version: {langchain.__version__}\")\n",
    "print(f\"matplotlib version: {plt.matplotlib.__version__}\")\n",
    "print(f\"tiktoken version: {tiktoken.__version__}\")\n",
    "print(f\"pypdf version: {pypdf.__version__}\")\n",
    "\n",
    "try:\n",
    "    import google.generativeai as genai\n",
    "    print(f\"google-generativeai version: {genai.__version__}\")\n",
    "except ImportError:\n",
    "    print(\"google-generativeai not installed or version not accessible\")"
   ]
  },
  {
   "cell_type": "markdown",
   "id": "f2cd7622-86fc-4587-b455-62a15a647f69",
   "metadata": {},
   "source": [
    "## Setting up API"
   ]
  },
  {
   "cell_type": "code",
   "execution_count": 23,
   "id": "1711ccbb-4175-4d26-a84f-7131ba8025e4",
   "metadata": {},
   "outputs": [],
   "source": [
    "# Load API Key from environment variable\n",
    "GOOGLE_API_KEY = os.getenv(\"GEMINI_API_KEY\")\n",
    "if not GOOGLE_API_KEY:\n",
    "    st.error(\"Google API Key is missing! Set the GOOGLE_API_KEY environment variable.\")\n",
    "    st.stop()\n",
    "\n",
    "# Initialize tiktoken for token counting\n",
    "encoder = tiktoken.get_encoding(\"cl100k_base\")\n",
    "\n",
    "# Function to count tokens\n",
    "def count_tokens(text):\n",
    "    return len(encoder.encode(text))\n",
    "\n",
    "# Configure Gemini model via LangChain\n",
    "llm = ChatGoogleGenerativeAI(model=\"gemini-1.5-flash-latest\", google_api_key=GOOGLE_API_KEY, temperature=0.7)"
   ]
  },
  {
   "cell_type": "markdown",
   "id": "4777baee-ff53-41e1-917c-a799eca49e04",
   "metadata": {},
   "source": [
    "## Prompt for SWOT"
   ]
  },
  {
   "cell_type": "code",
   "execution_count": 25,
   "id": "b118df13-c023-4363-878c-4f8efef910f1",
   "metadata": {},
   "outputs": [],
   "source": [
    "# Define the Prompt Template for SWOT Analysis\n",
    "swot_prompt = PromptTemplate(\n",
    "    input_variables=[\"text\"],\n",
    "    template=\"\"\"\n",
    "    Perform a detailed SWOT analysis on the following text:\n",
    "    {text}\n",
    "\n",
    "    Provide the response in this structured format and give maximum of 4 pointers for each component of SWOT, be factual and\n",
    "    data-driven whenever possible. Refer to provided input text thoroughly:\n",
    "    \n",
    "    **Strengths:**\n",
    "    - Example Strength 1\n",
    "    - Example Strength 2\n",
    "\n",
    "    **Weaknesses:**\n",
    "    - Example Weakness 1\n",
    "    - Example Weakness 2\n",
    "\n",
    "    **Opportunities:**\n",
    "    - Example Opportunity 1\n",
    "    - Example Opportunity 2\n",
    "\n",
    "    **Threats:**\n",
    "    - Example Threat 1\n",
    "    - Example Threat 2\n",
    "    \"\"\"\n",
    ")\n"
   ]
  },
  {
   "cell_type": "markdown",
   "id": "fab5ec11-06f2-406b-abc1-b1ce51f787d8",
   "metadata": {},
   "source": [
    "## Initialize LLM Chain"
   ]
  },
  {
   "cell_type": "code",
   "execution_count": 27,
   "id": "8e3d7c5d-61f5-4fae-91ff-4ba8883ac29f",
   "metadata": {},
   "outputs": [
    {
     "name": "stderr",
     "output_type": "stream",
     "text": [
      "C:\\Users\\abhin\\AppData\\Local\\Temp\\ipykernel_18884\\1243463340.py:2: LangChainDeprecationWarning: The class `LLMChain` was deprecated in LangChain 0.1.17 and will be removed in 1.0. Use :meth:`~RunnableSequence, e.g., `prompt | llm`` instead.\n",
      "  swot_chain = LLMChain(llm=llm, prompt=swot_prompt)\n"
     ]
    }
   ],
   "source": [
    "# Create LLM Chain\n",
    "swot_chain = LLMChain(llm=llm, prompt=swot_prompt)\n",
    "\n",
    "def parse_swot(text):\n",
    "    sections = {\"Strengths\": [], \"Weaknesses\": [], \"Opportunities\": [], \"Threats\": []}\n",
    "    current_section = None\n",
    "\n",
    "    for line in text.split(\"\\n\"):\n",
    "        line = line.strip()\n",
    "\n",
    "        # Handle different section markers\n",
    "        if \"Strengths\" in line:\n",
    "            current_section = \"Strengths\"\n",
    "        elif \"Weaknesses\" in line:\n",
    "            current_section = \"Weaknesses\"\n",
    "        elif \"Opportunities\" in line:\n",
    "            current_section = \"Opportunities\"\n",
    "        elif \"Threats\" in line:\n",
    "            current_section = \"Threats\"\n",
    "        elif line.startswith(\"-\") and current_section:\n",
    "            sections[current_section].append(line[1:].strip())\n",
    "\n",
    "    return sections\n"
   ]
  },
  {
   "cell_type": "markdown",
   "id": "c277d480-84c2-4e38-976d-f12c0ebc925f",
   "metadata": {},
   "source": [
    "## Display SWOT in quadrant format"
   ]
  },
  {
   "cell_type": "code",
   "execution_count": 29,
   "id": "745a9f49-d921-4590-b9f8-4aef4fdd2113",
   "metadata": {},
   "outputs": [],
   "source": [
    "# Function to display SWOT in quadrant format\n",
    "def display_swot_quadrant(swot_data):\n",
    "    fig, ax = plt.subplots(figsize=(8, 6))\n",
    "    ax.set_xlim(0, 2)\n",
    "    ax.set_ylim(0, 2)\n",
    "    \n",
    "    colors = {\"Strengths\": \"#add8e6\", \"Weaknesses\": \"#f4a582\", \"Opportunities\": \"#b3e2a9\", \"Threats\": \"#f4c2c2\"}\n",
    "    positions = {\"Strengths\": (0, 1), \"Weaknesses\": (1, 1), \"Opportunities\": (0, 0), \"Threats\": (1, 0)}\n",
    "    \n",
    "    for key, (x, y) in positions.items():\n",
    "        ax.add_patch(plt.Rectangle((x, y), 1, 1, color=colors[key], alpha=0.5))\n",
    "        ax.text(x + 0.5, y + 0.8, key, fontsize=12, fontweight='bold', ha='center')\n",
    "        text = \"\\n\".join(swot_data[key])\n",
    "        ax.text(x + 0.5, y + 0.4, text, fontsize=10, ha='center', va='center')\n",
    "    \n",
    "    ax.set_xticks([])\n",
    "    ax.set_yticks([])\n",
    "    ax.set_frame_on(False)\n",
    "    \n",
    "    st.pyplot(fig)"
   ]
  },
  {
   "cell_type": "markdown",
   "id": "b6d66808-e147-424b-95be-3e179649f0d2",
   "metadata": {},
   "source": [
    "## Set up WebApp page"
   ]
  },
  {
   "cell_type": "code",
   "execution_count": 31,
   "id": "d5468ad6-916b-42cb-bcd3-7814bd61bc83",
   "metadata": {},
   "outputs": [
    {
     "name": "stderr",
     "output_type": "stream",
     "text": [
      "2025-03-13 22:52:58.071 WARNING streamlit.runtime.scriptrunner_utils.script_run_context: Thread 'MainThread': missing ScriptRunContext! This warning can be ignored when running in bare mode.\n",
      "2025-03-13 22:52:58.072 WARNING streamlit.runtime.scriptrunner_utils.script_run_context: Thread 'MainThread': missing ScriptRunContext! This warning can be ignored when running in bare mode.\n",
      "2025-03-13 22:52:58.310 \n",
      "  \u001b[33m\u001b[1mWarning:\u001b[0m to view this Streamlit app on a browser, run it with the following\n",
      "  command:\n",
      "\n",
      "    streamlit run C:\\Users\\abhin\\anaconda3\\Lib\\site-packages\\ipykernel_launcher.py [ARGUMENTS]\n",
      "2025-03-13 22:52:58.310 Thread 'MainThread': missing ScriptRunContext! This warning can be ignored when running in bare mode.\n",
      "2025-03-13 22:52:58.310 Thread 'MainThread': missing ScriptRunContext! This warning can be ignored when running in bare mode.\n",
      "2025-03-13 22:52:58.310 Thread 'MainThread': missing ScriptRunContext! This warning can be ignored when running in bare mode.\n",
      "2025-03-13 22:52:58.318 Thread 'MainThread': missing ScriptRunContext! This warning can be ignored when running in bare mode.\n",
      "2025-03-13 22:52:58.321 Thread 'MainThread': missing ScriptRunContext! This warning can be ignored when running in bare mode.\n",
      "2025-03-13 22:52:58.321 Thread 'MainThread': missing ScriptRunContext! This warning can be ignored when running in bare mode.\n",
      "2025-03-13 22:52:58.321 Thread 'MainThread': missing ScriptRunContext! This warning can be ignored when running in bare mode.\n",
      "2025-03-13 22:52:58.329 Thread 'MainThread': missing ScriptRunContext! This warning can be ignored when running in bare mode.\n",
      "2025-03-13 22:52:58.331 Thread 'MainThread': missing ScriptRunContext! This warning can be ignored when running in bare mode.\n",
      "2025-03-13 22:52:58.333 Thread 'MainThread': missing ScriptRunContext! This warning can be ignored when running in bare mode.\n",
      "2025-03-13 22:52:58.333 Thread 'MainThread': missing ScriptRunContext! This warning can be ignored when running in bare mode.\n",
      "2025-03-13 22:52:58.337 Thread 'MainThread': missing ScriptRunContext! This warning can be ignored when running in bare mode.\n",
      "2025-03-13 22:52:58.337 Thread 'MainThread': missing ScriptRunContext! This warning can be ignored when running in bare mode.\n",
      "2025-03-13 22:52:58.337 Thread 'MainThread': missing ScriptRunContext! This warning can be ignored when running in bare mode.\n",
      "2025-03-13 22:52:58.337 Thread 'MainThread': missing ScriptRunContext! This warning can be ignored when running in bare mode.\n",
      "2025-03-13 22:52:58.337 Thread 'MainThread': missing ScriptRunContext! This warning can be ignored when running in bare mode.\n",
      "2025-03-13 22:52:58.342 Thread 'MainThread': missing ScriptRunContext! This warning can be ignored when running in bare mode.\n",
      "2025-03-13 22:52:58.342 Thread 'MainThread': missing ScriptRunContext! This warning can be ignored when running in bare mode.\n",
      "2025-03-13 22:52:58.342 Thread 'MainThread': missing ScriptRunContext! This warning can be ignored when running in bare mode.\n",
      "2025-03-13 22:52:58.346 Thread 'MainThread': missing ScriptRunContext! This warning can be ignored when running in bare mode.\n",
      "2025-03-13 22:52:58.346 Thread 'MainThread': missing ScriptRunContext! This warning can be ignored when running in bare mode.\n",
      "2025-03-13 22:52:58.346 Thread 'MainThread': missing ScriptRunContext! This warning can be ignored when running in bare mode.\n",
      "2025-03-13 22:52:58.346 Session state does not function when running a script without `streamlit run`\n",
      "2025-03-13 22:52:58.346 Thread 'MainThread': missing ScriptRunContext! This warning can be ignored when running in bare mode.\n",
      "2025-03-13 22:52:58.346 Thread 'MainThread': missing ScriptRunContext! This warning can be ignored when running in bare mode.\n"
     ]
    }
   ],
   "source": [
    "# Set the page title\n",
    "st.set_page_config(page_title=\"Smart SWOT Analysis\")\n",
    "\n",
    "# Display the title\n",
    "st.title(\"Smart SWOT Analysis\")\n",
    "\n",
    "\n",
    "# Display Objective\n",
    "st.write(\"## OBJECTIVE:\")\n",
    "st.write(\"Let's unlock insights from your business extract with a quick SWOT analysis.\")\n",
    "\n",
    "# Provide instructions\n",
    "st.write(\"Upload a PDF or paste a business extract below, and the AI will generate a SWOT analysis:\")\n",
    "\n",
    "\n",
    "# File upload\n",
    "uploaded_file = st.file_uploader(\"Choose an upload file\", type=\"pdf\")\n",
    "\n",
    "if uploaded_file is not None:\n",
    "    try:\n",
    "        pdf_reader = pypdf.PdfReader(uploaded_file)\n",
    "        text = \"\"\n",
    "        for page in pdf_reader.pages:\n",
    "            text += page.extract_text()\n",
    "        input_text = text  # Set input_text to the extracted PDF text\n",
    "        st.write(\"PDF text extracted.\")\n",
    "\n",
    "    except pypdf.errors.PdfReadError:\n",
    "        st.error(\"Error: Unable to read PDF. Please ensure it is not corrupted.\")\n",
    "        input_text = \"\"\n",
    "\n",
    "else:\n",
    "    # Text input\n",
    "    input_text = st.text_area(\"Or, enter text here:\")\n"
   ]
  },
  {
   "cell_type": "markdown",
   "id": "60fe6f8f-266f-4555-a92e-c22794e22c1e",
   "metadata": {},
   "source": [
    "## Generate SWOT and display on WebApp"
   ]
  },
  {
   "cell_type": "code",
   "execution_count": 35,
   "id": "0a5fcdae-80dc-41fe-bfc3-a8ba754c21ae",
   "metadata": {},
   "outputs": [
    {
     "name": "stderr",
     "output_type": "stream",
     "text": [
      "2025-03-13 22:52:58.457 Thread 'MainThread': missing ScriptRunContext! This warning can be ignored when running in bare mode.\n",
      "2025-03-13 22:52:58.457 Thread 'MainThread': missing ScriptRunContext! This warning can be ignored when running in bare mode.\n",
      "2025-03-13 22:52:58.457 Thread 'MainThread': missing ScriptRunContext! This warning can be ignored when running in bare mode.\n",
      "2025-03-13 22:52:58.457 Thread 'MainThread': missing ScriptRunContext! This warning can be ignored when running in bare mode.\n",
      "2025-03-13 22:52:58.457 Thread 'MainThread': missing ScriptRunContext! This warning can be ignored when running in bare mode.\n",
      "2025-03-13 22:52:58.457 Thread 'MainThread': missing ScriptRunContext! This warning can be ignored when running in bare mode.\n",
      "2025-03-13 22:52:58.463 Thread 'MainThread': missing ScriptRunContext! This warning can be ignored when running in bare mode.\n",
      "2025-03-13 22:52:58.465 Thread 'MainThread': missing ScriptRunContext! This warning can be ignored when running in bare mode.\n",
      "2025-03-13 22:52:58.465 Thread 'MainThread': missing ScriptRunContext! This warning can be ignored when running in bare mode.\n",
      "2025-03-13 22:52:58.467 Thread 'MainThread': missing ScriptRunContext! This warning can be ignored when running in bare mode.\n",
      "2025-03-13 22:52:58.467 Thread 'MainThread': missing ScriptRunContext! This warning can be ignored when running in bare mode.\n",
      "2025-03-13 22:52:58.467 Thread 'MainThread': missing ScriptRunContext! This warning can be ignored when running in bare mode.\n",
      "2025-03-13 22:52:58.469 Thread 'MainThread': missing ScriptRunContext! This warning can be ignored when running in bare mode.\n",
      "2025-03-13 22:52:58.469 Thread 'MainThread': missing ScriptRunContext! This warning can be ignored when running in bare mode.\n"
     ]
    }
   ],
   "source": [
    "# Initialize session state for token tracking\n",
    "if 'tokens_consumed' not in st.session_state:\n",
    "    st.session_state.tokens_consumed = 0\n",
    "if 'query_tokens' not in st.session_state:\n",
    "    st.session_state.query_tokens = 0\n",
    "if 'response_tokens' not in st.session_state:\n",
    "    st.session_state.response_tokens = 0\n",
    "\n",
    "\n",
    "# Generate and display the SWOT analysis\n",
    "\n",
    "if st.button(\"Generate SWOT Analysis\"):\n",
    "    if input_text:\n",
    "        with st.spinner('Generating SWOT analysis...'):\n",
    "            try:\n",
    "                swot_report = swot_chain.run(text=input_text)\n",
    "                swot_data = parse_swot(swot_report)\n",
    "\n",
    "            except Exception as e:\n",
    "                st.error(f\"An error occurred: {e}\")\n",
    "    else:\n",
    "        st.warning(\"Please upload a PDF or enter text before generating the SWOT analysis.\")\n",
    "\n",
    "    # Display SWOT analysis\n",
    "    if any(swot_data.values()):\n",
    "        col_s, col_w = st.columns(2)\n",
    "        with col_s:\n",
    "            st.subheader(\"🔵 Strengths\")\n",
    "            for item in swot_data[\"Strengths\"]:\n",
    "                st.write(f\"- {item}\")\n",
    "        with col_w:\n",
    "            st.subheader(\"🟠 Weaknesses\")\n",
    "            for item in swot_data[\"Weaknesses\"]:\n",
    "                st.write(f\"- {item}\")\n",
    "        col_o, col_t = st.columns(2)\n",
    "        with col_o:\n",
    "            st.subheader(\"🟢 Opportunities\")\n",
    "            for item in swot_data[\"Opportunities\"]:\n",
    "                st.write(f\"- {item}\")\n",
    "        with col_t:\n",
    "            st.subheader(\"🔴 Threats\")\n",
    "            for item in swot_data[\"Threats\"]:\n",
    "                st.write(f\"- {item}\")\n",
    "    else:\n",
    "        st.error(\"Parsing failed! Check the LLM output formatting.\")\n",
    "\n",
    "\n",
    "    # Prepare data for download\n",
    "    report_bytes = swot_report.encode(\"utf-8\")  # Encode string to bytes\n",
    "    file_name = \"swot_report.txt\"  # Set filename\n",
    "    mime_type = \"text/plain\" #set mime type\n",
    "\n",
    "    # Download button\n",
    "    st.download_button(\n",
    "        label=\"Download SWOT Report\",\n",
    "        data=report_bytes,\n",
    "        file_name=file_name,\n",
    "        mime=mime_type,\n",
    "    )\n",
    "\n",
    "\n",
    "    # Calculate token counts\n",
    "    query_tokens = count_tokens(input_text)\n",
    "    response_tokens = count_tokens(swot_report)\n",
    "\n",
    "    # Update session state\n",
    "    st.session_state.query_tokens += query_tokens\n",
    "    st.session_state.response_tokens += response_tokens\n",
    "    st.session_state.tokens_consumed += (query_tokens + response_tokens)\n"
   ]
  },
  {
   "cell_type": "markdown",
   "id": "c3a1fb38-9200-4be5-a95b-8335bef2de7c",
   "metadata": {},
   "source": [
    "## Display token usage in sidebar"
   ]
  },
  {
   "cell_type": "code",
   "execution_count": 43,
   "id": "0462fe38-1f06-4fa1-9c4d-14b616dc2887",
   "metadata": {},
   "outputs": [
    {
     "name": "stderr",
     "output_type": "stream",
     "text": [
      "2025-03-13 22:53:01.352 Thread 'MainThread': missing ScriptRunContext! This warning can be ignored when running in bare mode.\n",
      "2025-03-13 22:53:01.355 Thread 'MainThread': missing ScriptRunContext! This warning can be ignored when running in bare mode.\n",
      "2025-03-13 22:53:01.355 Thread 'MainThread': missing ScriptRunContext! This warning can be ignored when running in bare mode.\n",
      "2025-03-13 22:53:01.359 Thread 'MainThread': missing ScriptRunContext! This warning can be ignored when running in bare mode.\n",
      "2025-03-13 22:53:01.363 Thread 'MainThread': missing ScriptRunContext! This warning can be ignored when running in bare mode.\n",
      "2025-03-13 22:53:01.365 Thread 'MainThread': missing ScriptRunContext! This warning can be ignored when running in bare mode.\n",
      "2025-03-13 22:53:01.365 Thread 'MainThread': missing ScriptRunContext! This warning can be ignored when running in bare mode.\n",
      "2025-03-13 22:53:01.367 Thread 'MainThread': missing ScriptRunContext! This warning can be ignored when running in bare mode.\n",
      "2025-03-13 22:53:01.371 Thread 'MainThread': missing ScriptRunContext! This warning can be ignored when running in bare mode.\n",
      "2025-03-13 22:53:01.371 Thread 'MainThread': missing ScriptRunContext! This warning can be ignored when running in bare mode.\n",
      "2025-03-13 22:53:01.375 Thread 'MainThread': missing ScriptRunContext! This warning can be ignored when running in bare mode.\n",
      "2025-03-13 22:53:01.376 Thread 'MainThread': missing ScriptRunContext! This warning can be ignored when running in bare mode.\n",
      "2025-03-13 22:53:01.376 Thread 'MainThread': missing ScriptRunContext! This warning can be ignored when running in bare mode.\n",
      "2025-03-13 22:53:01.376 Thread 'MainThread': missing ScriptRunContext! This warning can be ignored when running in bare mode.\n",
      "2025-03-13 22:53:01.376 Thread 'MainThread': missing ScriptRunContext! This warning can be ignored when running in bare mode.\n",
      "2025-03-13 22:53:01.383 Thread 'MainThread': missing ScriptRunContext! This warning can be ignored when running in bare mode.\n",
      "2025-03-13 22:53:01.383 Thread 'MainThread': missing ScriptRunContext! This warning can be ignored when running in bare mode.\n",
      "2025-03-13 22:53:01.383 Thread 'MainThread': missing ScriptRunContext! This warning can be ignored when running in bare mode.\n",
      "2025-03-13 22:53:01.387 Thread 'MainThread': missing ScriptRunContext! This warning can be ignored when running in bare mode.\n",
      "2025-03-13 22:53:01.387 Thread 'MainThread': missing ScriptRunContext! This warning can be ignored when running in bare mode.\n",
      "2025-03-13 22:53:01.387 Thread 'MainThread': missing ScriptRunContext! This warning can be ignored when running in bare mode.\n"
     ]
    },
    {
     "name": "stdout",
     "output_type": "stream",
     "text": [
      "Tokens consumed in this transaction...\n",
      "Query token =  0\n",
      "Response tokens =  0\n"
     ]
    }
   ],
   "source": [
    "# Display token usage in sidebar\n",
    "st.sidebar.write(f\"Total Tokens Consumed: {st.session_state.tokens_consumed}\")\n",
    "st.sidebar.write(f\"Query Tokens: {st.session_state.query_tokens}\")\n",
    "st.sidebar.write(f\"Response Tokens: {st.session_state.response_tokens}\")\n",
    "\n",
    "query_tokens = 0  # Initialize query_tokens\n",
    "response_tokens = 0 # Initialize response_tokens\n",
    "\n",
    "print(\"Tokens consumed in this transaction...\")\n",
    "print(\"Query token = \", query_tokens)\n",
    "print(\"Response tokens = \", response_tokens)\n",
    "\n",
    "# Reset session state for token counts\n",
    "st.session_state.tokens_consumed = 0\n",
    "st.session_state.query_tokens = 0\n",
    "st.session_state.response_tokens = 0"
   ]
  },
  {
   "cell_type": "code",
   "execution_count": null,
   "id": "9630cd45-0e2f-4227-b513-0195a1e9351b",
   "metadata": {},
   "outputs": [],
   "source": []
  },
  {
   "cell_type": "code",
   "execution_count": null,
   "id": "69d9e37b-32aa-41c9-9ff0-7bccc4ae08e6",
   "metadata": {},
   "outputs": [],
   "source": []
  }
 ],
 "metadata": {
  "kernelspec": {
   "display_name": "Python 3 (ipykernel)",
   "language": "python",
   "name": "python3"
  },
  "language_info": {
   "codemirror_mode": {
    "name": "ipython",
    "version": 3
   },
   "file_extension": ".py",
   "mimetype": "text/x-python",
   "name": "python",
   "nbconvert_exporter": "python",
   "pygments_lexer": "ipython3",
   "version": "3.11.7"
  }
 },
 "nbformat": 4,
 "nbformat_minor": 5
}
